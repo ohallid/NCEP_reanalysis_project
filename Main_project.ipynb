from netCDF4 import Dataset

import numpy as np

import matplotlib.pyplot as plt

import pandas as pd

from IPython.html.widgets import *

Data=Dataset('netcdf-atls03-a562cefde8a29a7288fa0b8b7f9413f7-LtAc4K.nc')

#df=pd.DataFrame(Data)



temp=Data.variables['t2m']

#for n in range(0,11):
#    for i in range(0+n,432,12):
#        var_all=1




temp_months = np.empty([36,241,480])
temp_all    = np.empty([12,36,241,480])
var_all    = np.empty([5,12,36,241,480])

#for loop for each variables
#for k in range(0,2):
for j in range(0,12):
    for i in range(0, 36):
        a  = (i * 12) + j
        temp_months[i,:,:] = temp[a,:,:]
        temp_all[j,:,:,:] = temp_months #[months,years,lat,lon]
#    var_all[k,:,:,:,:] = slp_all           
# var_all[5,12,36,241,480]=[variable,month,year,lat,lon]

mean_temp = np.empty([12,241,480])

for i in range(0,12):
    for ilat in range(0,241):
        for ilon in range(0,480):
            mean_temp[i,ilat,ilon]=sum(temp_all[i,:,ilat,ilon])/36.0 #[month,lat,lon]

anom_temp = np.empty([12,36,241,480])

for j in range(0,36):
    anom_temp[:,j,:,:]=temp_all[:,j,:,:]-mean_temp[:,:,:]

print mean_temp.shape

print anom_temp.shape

jul_anom=anom_temp[6,:,:,:]

def datashow(month, year):
    plt.imshow(anom_temp[month,year,:,:])

interact(datashow,month=(0,12,1),year=(0,36,1))
