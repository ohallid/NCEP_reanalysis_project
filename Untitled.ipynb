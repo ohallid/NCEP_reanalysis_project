{
 "cells": [
  {
   "cell_type": "code",
   "execution_count": 1,
   "metadata": {
    "collapsed": true
   },
   "outputs": [],
   "source": [
    "from netCDF4 import Dataset"
   ]
  },
  {
   "cell_type": "code",
   "execution_count": 3,
   "metadata": {
    "collapsed": false
   },
   "outputs": [
    {
     "data": {
      "text/plain": [
       "<function __main__.datashow>"
      ]
     },
     "execution_count": 3,
     "metadata": {},
     "output_type": "execute_result"
    }
   ],
   "source": [
    "\n",
    "import numpy as np\n",
    "\n",
    "import matplotlib.pyplot as plt\n",
    "\n",
    "import pandas as pd\n",
    "\n",
    "from IPython.html.widgets import *\n",
    "\n",
    "Data=Dataset('netcdf-atls03-a562cefde8a29a7288fa0b8b7f9413f7-LtAc4K.nc')\n",
    "\n",
    "#df=pd.DataFrame(Data)\n",
    "\n",
    "\n",
    "\n",
    "temp=Data.variables['t2m']\n",
    "\n",
    "#for n in range(0,11):\n",
    "#    for i in range(0+n,432,12):\n",
    "#        var_all=1\n",
    "\n",
    "\n",
    "\n",
    "\n",
    "temp_months = np.empty([36,241,480])\n",
    "temp_all    = np.empty([12,36,241,480])\n",
    "var_all    = np.empty([5,12,36,241,480])\n",
    "\n",
    "#for loop for each variables\n",
    "#for k in range(0,2):\n",
    "for j in range(0,12):\n",
    "    for i in range(0, 36):\n",
    "        a  = (i * 12) + j\n",
    "        temp_months[i,:,:] = temp[a,:,:]\n",
    "        temp_all[j,:,:,:] = temp_months #[months,years,lat,lon]\n",
    "#    var_all[k,:,:,:,:] = slp_all           \n",
    "# var_all[5,12,36,241,480]=[variable,month,year,lat,lon]\n",
    "\n",
    "mean_temp = np.empty([12,241,480])\n",
    "\n",
    "for i in range(0,12):\n",
    "    for ilat in range(0,241):\n",
    "        for ilon in range(0,480):\n",
    "            mean_temp[i,ilat,ilon]=sum(temp_all[i,:,ilat,ilon])/36.0 #[month,lat,lon]\n",
    "\n",
    "anom_temp = np.empty([12,36,241,480])\n",
    "\n",
    "for j in range(0,36):\n",
    "    anom_temp[:,j,:,:]=temp_all[:,j,:,:]-mean_temp[:,:,:]\n",
    "\n",
    "print mean_temp.shape\n",
    "\n",
    "print anom_temp.shape\n",
    "\n",
    "jul_anom=anom_temp[6,:,:,:]\n",
    "\n",
    "def datashow(month, year):\n",
    "    plt.imshow(anom_temp[month,year,:,:])\n",
    "\n",
    "interact(datashow,month=(0,11,1),year=(0,35,1))\n"
   ]
  },
  {
   "cell_type": "code",
   "execution_count": null,
   "metadata": {
    "collapsed": true
   },
   "outputs": [],
   "source": []
  }
 ],
 "metadata": {
  "kernelspec": {
   "display_name": "Python 2",
   "language": "python",
   "name": "python2"
  },
  "language_info": {
   "codemirror_mode": {
    "name": "ipython",
    "version": 2
   },
   "file_extension": ".py",
   "mimetype": "text/x-python",
   "name": "python",
   "nbconvert_exporter": "python",
   "pygments_lexer": "ipython2",
   "version": "2.7.10"
  }
 },
 "nbformat": 4,
 "nbformat_minor": 0
}
